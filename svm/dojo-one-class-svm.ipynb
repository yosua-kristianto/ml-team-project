{
  "cells": [
    {
      "cell_type": "markdown",
      "metadata": {},
      "source": [
        "# Support Vector Classifier for Binary Classification\n",
        "\n",
        "This code was run in Google Collab"
      ]
    },
    {
      "cell_type": "code",
      "execution_count": 5,
      "metadata": {
        "id": "9XePM6hudgaA"
      },
      "outputs": [],
      "source": [
        "import pandas as pd\n",
        "import numpy as np\n",
        "import matplotlib.pyplot as plt\n",
        "import seaborn as sns\n",
        "from sklearn.model_selection import train_test_split;\n",
        "from sklearn.svm import OneClassSVM\n",
        "from sklearn.preprocessing import StandardScaler\n",
        "from sklearn.metrics import accuracy_score, log_loss;\n",
        "from sklearn.model_selection import GridSearchCV;\n",
        "\n",
        "sns.set_style('whitegrid')"
      ]
    },
    {
      "cell_type": "code",
      "execution_count": 6,
      "metadata": {
        "colab": {
          "base_uri": "https://localhost:8080/"
        },
        "id": "j6RmEFk1dqPX",
        "outputId": "22a7729d-41a3-4039-c0c7-70a66eeef76a"
      },
      "outputs": [
        {
          "name": "stdout",
          "output_type": "stream",
          "text": [
            "Data after cleaning:  (29601, 34)\n",
            "['ID', 'LIMIT_BAL', 'SEX', 'EDUCATION', 'MARRIAGE', 'AGE', 'PAY_0', 'PAY_2', 'PAY_3', 'PAY_4', 'PAY_5', 'PAY_6', 'BILL_AMT1', 'BILL_AMT2', 'BILL_AMT3', 'BILL_AMT4', 'BILL_AMT5', 'BILL_AMT6', 'PAY_AMT1', 'PAY_AMT2', 'PAY_AMT3', 'PAY_AMT4', 'PAY_AMT5', 'PAY_AMT6', 'LABEL', 'sex_1', 'sex_2', 'education_1', 'education_2', 'education_3', 'education_4', 'marital_status_1', 'marital_status_2', 'marital_status_3']\n"
          ]
        }
      ],
      "source": [
        "# Loading data from pre-cleaned csv file\n",
        "dataframe = pd.read_csv(\"/mnt/d/Code/College/Machine Learning/Team Assignment/Default Credit Scoring/credit_card_clients.csv\");\n",
        "\n",
        "# Some education data contains 0, 5, and 6. I eliminating 'em.\n",
        "\n",
        "invalid_education_data = [];\n",
        "for idx, e in enumerate(dataframe['EDUCATION']):\n",
        "    if(e > 4 or e < 1):\n",
        "        invalid_education_data.append(idx);\n",
        "\n",
        "# Some marriage data contains 0. I eliminating 'em.\n",
        "\n",
        "invalid_marriage_data = [];\n",
        "for idx, e in enumerate(dataframe['MARRIAGE']):\n",
        "    if(e == 0):\n",
        "        invalid_marriage_data.append(idx);\n",
        "\n",
        "final_invalid_data_index = [];\n",
        "for e in [invalid_marriage_data, invalid_education_data]:\n",
        "    for f in e:\n",
        "\n",
        "        # Check the index. If it throw exception, append the number.\n",
        "        try:\n",
        "            final_invalid_data_index.index(f);\n",
        "            continue;\n",
        "        except:\n",
        "            final_invalid_data_index.append(f);\n",
        "\n",
        "dataframe = dataframe.drop(final_invalid_data_index);\n",
        "\n",
        "# Make one hot encoding for Sex, Educuation, and Marriage since the data is an ordinal data\n",
        "hot_encoded_sex = pd.get_dummies(dataframe['SEX'], prefix = \"sex\");\n",
        "hot_encoded_education = pd.get_dummies(dataframe['EDUCATION'], prefix = \"education\");\n",
        "hot_encoded_marital_status = pd.get_dummies(dataframe['MARRIAGE'], prefix = \"marital_status\");\n",
        "\n",
        "# Merge the hot_encoded with the main dataframe\n",
        "for i in [hot_encoded_sex, hot_encoded_education,hot_encoded_marital_status]:\n",
        "    dataframe = pd.concat([dataframe, i], axis = 1);\n",
        "\n",
        "# Since OneClassSVM are mainly used for anomaly / outlier detection, I have to change the value of the label into 1 for true positive or -1 for false negative\n",
        "dataframe['LABEL'] = dataframe['LABEL'].apply(lambda x: 1 if x == 1 else -1);\n",
        "\n",
        "\n",
        "print(\"Data after cleaning: \", dataframe.shape);\n",
        "print(dataframe.columns.tolist());"
      ]
    },
    {
      "cell_type": "code",
      "execution_count": 7,
      "metadata": {
        "id": "1q20kGu9jEqY"
      },
      "outputs": [],
      "source": [
        "# Define label data\n",
        "label = dataframe['LABEL'];\n",
        "\n",
        "# Drop ID, SEX, EDUCATION, MARRIAGE, and LABEL from dataframe for features\n",
        "features = dataframe.drop(columns=[\"ID\", \"SEX\", \"EDUCATION\", \"MARRIAGE\", \"LABEL\"]);\n",
        "\n",
        "# Split the data into training and testing sets\n",
        "X_train, X_test, y_train, y_test = train_test_split(features, label, test_size=0.3, random_state=42)\n",
        "\n",
        "# Scale the features\n",
        "scaler = StandardScaler();\n",
        "feature_train_scaled = scaler.fit_transform(X_train);\n",
        "feature_test_scaled = scaler.transform(X_test);"
      ]
    },
    {
      "cell_type": "code",
      "execution_count": 8,
      "metadata": {
        "colab": {
          "base_uri": "https://localhost:8080/",
          "height": 74
        },
        "id": "CCSxKZoPnlwW",
        "outputId": "a4667c32-805d-4265-c261-708cb51d993d"
      },
      "outputs": [
        {
          "name": "stdout",
          "output_type": "stream",
          "text": [
            "Accuracy: 0.5219006868595879\n",
            "Log Loss: 17.232445928407998\n"
          ]
        }
      ],
      "source": [
        "# Searching the most suited algorithms\n",
        "\n",
        "param_grid = {'nu': [0.01, 0.05, 0.1], 'gamma': [\"scale\", \"auto\"]};\n",
        "grid_search = GridSearchCV(OneClassSVM(), param_grid, cv=5, scoring = \"accuracy\")\n",
        "grid_search.fit(feature_train_scaled, y_train);\n",
        "best_params = grid_search.best_params_\n",
        "best_model = grid_search.best_estimator_\n",
        "\n",
        "# Make predictions on the test set\n",
        "prediction = best_model.predict(feature_test_scaled);\n",
        "\n",
        "# Evaluate the model\n",
        "accuracy = accuracy_score(y_test, prediction);\n",
        "print(f\"Accuracy: {accuracy}\");\n",
        "\n",
        "# Calculate mean squared error\n",
        "loss = log_loss(y_test, prediction);\n",
        "print(f\"Log Loss: {loss}\");"
      ]
    },
    {
      "cell_type": "code",
      "execution_count": 15,
      "metadata": {},
      "outputs": [
        {
          "name": "stdout",
          "output_type": "stream",
          "text": [
            "{'gamma': 1.0, 'nu': 0.05}\n"
          ]
        }
      ],
      "source": [
        "print(best_params)"
      ]
    }
  ],
  "metadata": {
    "accelerator": "GPU",
    "colab": {
      "gpuType": "T4",
      "provenance": []
    },
    "kernelspec": {
      "display_name": "Python 3 (ipykernel)",
      "language": "python",
      "name": "python3"
    }
  },
  "nbformat": 4,
  "nbformat_minor": 0
}
