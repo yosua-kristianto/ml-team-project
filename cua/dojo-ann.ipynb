{
 "cells": [
  {
   "cell_type": "code",
   "execution_count": 50,
   "metadata": {},
   "outputs": [],
   "source": [
    "import tensorflow;\n",
    "import pandas;\n",
    "from sklearn.model_selection import train_test_split;\n",
    "from tensorflow import keras;\n",
    "from tensorflow.keras.models import Sequential;\n",
    "from sklearn.preprocessing import StandardScaler\n",
    "import matplotlib.pyplot as plt;\n",
    "from sklearn.decomposition import PCA;\n",
    "from tensorflow.keras.utils import plot_model;\n",
    "from tensorflow.keras.regularizers import l2;"
   ]
  },
  {
   "cell_type": "code",
   "execution_count": 51,
   "metadata": {},
   "outputs": [
    {
     "data": {
      "text/plain": [
       "[PhysicalDevice(name='/physical_device:GPU:0', device_type='GPU')]"
      ]
     },
     "execution_count": 51,
     "metadata": {},
     "output_type": "execute_result"
    }
   ],
   "source": [
    "tensorflow.config.list_physical_devices('GPU')"
   ]
  },
  {
   "cell_type": "markdown",
   "metadata": {},
   "source": [
    "## Data Import"
   ]
  },
  {
   "cell_type": "code",
   "execution_count": 52,
   "metadata": {},
   "outputs": [],
   "source": [
    "# Loading data from pre-cleaned csv file\n",
    "dataframe = pandas.read_csv(\"/mnt/d/Code/College/Machine Learning/Team Assignment/Default Credit Scoring/credit_card_clients.csv\");"
   ]
  },
  {
   "cell_type": "markdown",
   "metadata": {},
   "source": [
    "## Feature Correlation\n",
    "\n",
    "In this section I set the treshold with 0.2. Any feature below 0.2 will be discarded."
   ]
  },
  {
   "cell_type": "code",
   "execution_count": 53,
   "metadata": {},
   "outputs": [
    {
     "name": "stdout",
     "output_type": "stream",
     "text": [
      "Relationship : Correlation Score\n",
      "ID -> LABEL :  -0.013951954838986251\n",
      "Dropping  ID\n",
      "LIMIT_BAL -> LABEL :  -0.1535198763935072\n",
      "Dropping  LIMIT_BAL\n",
      "SEX -> LABEL :  -0.03996057770544172\n",
      "Dropping  SEX\n",
      "EDUCATION -> LABEL :  0.028006077656250204\n",
      "MARRIAGE -> LABEL :  -0.024339215683404438\n",
      "Dropping  MARRIAGE\n",
      "AGE -> LABEL :  0.013889834301962887\n",
      "PAY_0 -> LABEL :  0.32479372847862237\n",
      "PAY_2 -> LABEL :  0.2635512016721678\n",
      "PAY_3 -> LABEL :  0.23525251372491712\n",
      "PAY_4 -> LABEL :  0.21661363684242388\n",
      "PAY_5 -> LABEL :  0.2041489138761645\n",
      "PAY_6 -> LABEL :  0.18686636165354611\n",
      "BILL_AMT1 -> LABEL :  -0.019644197143221562\n",
      "Dropping  BILL_AMT1\n",
      "BILL_AMT2 -> LABEL :  -0.014193218088215756\n",
      "Dropping  BILL_AMT2\n",
      "BILL_AMT3 -> LABEL :  -0.014075518043214726\n",
      "Dropping  BILL_AMT3\n",
      "BILL_AMT4 -> LABEL :  -0.010156495880289674\n",
      "Dropping  BILL_AMT4\n",
      "BILL_AMT5 -> LABEL :  -0.006760463841014779\n",
      "Dropping  BILL_AMT5\n",
      "BILL_AMT6 -> LABEL :  -0.005372314914815558\n",
      "Dropping  BILL_AMT6\n",
      "PAY_AMT1 -> LABEL :  -0.07292948777785163\n",
      "Dropping  PAY_AMT1\n",
      "PAY_AMT2 -> LABEL :  -0.058578706582901575\n",
      "Dropping  PAY_AMT2\n",
      "PAY_AMT3 -> LABEL :  -0.056250350990331634\n",
      "Dropping  PAY_AMT3\n",
      "PAY_AMT4 -> LABEL :  -0.05682740089288691\n",
      "Dropping  PAY_AMT4\n",
      "PAY_AMT5 -> LABEL :  -0.05512351562108876\n",
      "Dropping  PAY_AMT5\n",
      "PAY_AMT6 -> LABEL :  -0.05318334032612796\n",
      "Dropping  PAY_AMT6\n",
      "LABEL -> LABEL :  1.0\n"
     ]
    }
   ],
   "source": [
    "# Correlation Heatmap\n",
    "correlation = dataframe.corr();\n",
    "\n",
    "TRESHOLD = 0;\n",
    "print(\"Relationship : Correlation Score\");\n",
    "\n",
    "columns_to_be_dropped = [];\n",
    "for i in correlation.columns:\n",
    "    correlation_score = correlation[i][\"LABEL\"];\n",
    "    print(i, \"-> LABEL : \", correlation_score);\n",
    "\n",
    "    if(correlation_score < TRESHOLD):\n",
    "        columns_to_be_dropped.append(i);\n",
    "        print(\"Dropping \", i);\n",
    "\n",
    "dataframe = dataframe.drop(columns=columns_to_be_dropped);"
   ]
  },
  {
   "cell_type": "markdown",
   "metadata": {},
   "source": [
    "## Data Pre-Processing\n",
    "Checkout the `main.ipynb` since I just copy-pasting the whole thing from it."
   ]
  },
  {
   "cell_type": "code",
   "execution_count": 54,
   "metadata": {},
   "outputs": [
    {
     "name": "stdout",
     "output_type": "stream",
     "text": [
      "Data after cleaning:  (29655, 77)\n",
      "['EDUCATION', 'AGE', 'PAY_0', 'PAY_2', 'PAY_3', 'PAY_4', 'PAY_5', 'PAY_6', 'LABEL', 'education_1', 'education_2', 'education_3', 'education_4', 'pay_0_-2', 'pay_0_-1', 'pay_0_0', 'pay_0_1', 'pay_0_2', 'pay_0_3', 'pay_0_4', 'pay_0_5', 'pay_0_6', 'pay_0_7', 'pay_0_8', 'pay_2_-2', 'pay_2_-1', 'pay_2_0', 'pay_2_1', 'pay_2_2', 'pay_2_3', 'pay_2_4', 'pay_2_5', 'pay_2_6', 'pay_2_7', 'pay_2_8', 'pay_3_-2', 'pay_3_-1', 'pay_3_0', 'pay_3_1', 'pay_3_2', 'pay_3_3', 'pay_3_4', 'pay_3_5', 'pay_3_6', 'pay_3_7', 'pay_3_8', 'pay_4_-2', 'pay_4_-1', 'pay_4_0', 'pay_4_1', 'pay_4_2', 'pay_4_3', 'pay_4_4', 'pay_4_5', 'pay_4_6', 'pay_4_7', 'pay_4_8', 'pay_5_-2', 'pay_5_-1', 'pay_5_0', 'pay_5_2', 'pay_5_3', 'pay_5_4', 'pay_5_5', 'pay_5_6', 'pay_5_7', 'pay_5_8', 'pay_6_-2', 'pay_6_-1', 'pay_6_0', 'pay_6_2', 'pay_6_3', 'pay_6_4', 'pay_6_5', 'pay_6_6', 'pay_6_7', 'pay_6_8']\n"
     ]
    }
   ],
   "source": [
    "# Some education data contains 0, 5, and 6. I eliminating \"em.\n",
    "\n",
    "invalid_education_data = [];\n",
    "for idx, e in enumerate(dataframe['EDUCATION']):\n",
    "    if(e > 4 or e < 1):\n",
    "        invalid_education_data.append(idx);\n",
    "\n",
    "dataframe = dataframe.drop(invalid_education_data);\n",
    "\n",
    "# Make one hot encoding for Educuation and PAY_0 to 6 since the data is an ordinal data\n",
    "hot_encoded_education = pandas.get_dummies(dataframe['EDUCATION'], prefix = \"education\");\n",
    "hot_encoded_pay_0 = pandas.get_dummies(dataframe['PAY_0'], prefix = \"pay_0\");\n",
    "# hot_encoded_pay_1 = pandas.get_dummies(dataframe['PAY_1'], prefix = \"pay_1\");\n",
    "hot_encoded_pay_2 = pandas.get_dummies(dataframe['PAY_2'], prefix = \"pay_2\");\n",
    "hot_encoded_pay_3 = pandas.get_dummies(dataframe['PAY_3'], prefix = \"pay_3\");\n",
    "hot_encoded_pay_4 = pandas.get_dummies(dataframe['PAY_4'], prefix = \"pay_4\");\n",
    "hot_encoded_pay_5 = pandas.get_dummies(dataframe['PAY_5'], prefix = \"pay_5\");\n",
    "hot_encoded_pay_6 = pandas.get_dummies(dataframe['PAY_6'], prefix = \"pay_6\");\n",
    "\n",
    "# Merge the hot_encoded with the main dataframe\n",
    "for i in [hot_encoded_education, hot_encoded_pay_0, hot_encoded_pay_2, hot_encoded_pay_3, hot_encoded_pay_4, hot_encoded_pay_5, hot_encoded_pay_6]:\n",
    "    dataframe = pandas.concat([dataframe, i], axis = 1);\n",
    "\n",
    "print(\"Data after cleaning: \", dataframe.shape);\n",
    "print(dataframe.columns.tolist());"
   ]
  },
  {
   "cell_type": "code",
   "execution_count": 55,
   "metadata": {},
   "outputs": [],
   "source": [
    "# Define label data\n",
    "label = dataframe['LABEL'];\n",
    "\n",
    "# Drop ID, SEX, EDUCATION, MARRIAGE, and LABEL from dataframe for features\n",
    "features = dataframe.drop(columns=[\"EDUCATION\", 'PAY_0', 'PAY_2', 'PAY_3', 'PAY_4', 'PAY_5', 'PAY_6', \"LABEL\"]);\n",
    "\n",
    "# Typecasting all values within to int64 because ANN need to be standardized\n",
    "\n",
    "for i in dataframe.columns:\n",
    "    dataframe[i] = dataframe[i].astype(int);\n",
    "\n",
    "# Split the data into training, validation, and testing sets\n",
    "feature_train, feature_test, label_train, label_test = train_test_split(features, label, test_size = 0.6, random_state = 42);\n",
    "feature_validation, feature_test, label_validation, label_test = train_test_split(feature_test, label_test, test_size=0.5, random_state = 20);\n",
    "\n",
    "# Scale the features\n",
    "scaler = StandardScaler();\n",
    "feature_train_scaled = scaler.fit_transform(feature_train);\n",
    "feature_validation_scaled = scaler.fit_transform(feature_validation);\n",
    "feature_test_scaled = scaler.transform(feature_test);"
   ]
  },
  {
   "cell_type": "markdown",
   "metadata": {},
   "source": [
    "## Fine Tunning\n",
    "\n",
    "This code based on Tensorflow Artifical Neural Network."
   ]
  },
  {
   "cell_type": "code",
   "execution_count": 56,
   "metadata": {},
   "outputs": [
    {
     "name": "stdout",
     "output_type": "stream",
     "text": [
      "Epoch 1/70\n"
     ]
    },
    {
     "name": "stderr",
     "output_type": "stream",
     "text": [
      "2024-01-16 15:58:32.396573: E external/local_xla/xla/stream_executor/gpu/asm_compiler.cc:115] *** WARNING *** You are using ptxas 10.1.243, which is older than 11.1. ptxas before 11.1 is known to miscompile XLA code, leading to incorrect results or invalid-address errors.\n",
      "\n",
      "2024-01-16 15:58:32.443140: E external/local_xla/xla/stream_executor/gpu/asm_compiler.cc:115] *** WARNING *** You are using ptxas 10.1.243, which is older than 11.1. ptxas before 11.1 is known to miscompile XLA code, leading to incorrect results or invalid-address errors.\n",
      "\n",
      "2024-01-16 15:58:32.488653: E external/local_xla/xla/stream_executor/gpu/asm_compiler.cc:115] *** WARNING *** You are using ptxas 10.1.243, which is older than 11.1. ptxas before 11.1 is known to miscompile XLA code, leading to incorrect results or invalid-address errors.\n",
      "\n",
      "2024-01-16 15:58:32.535920: E external/local_xla/xla/stream_executor/gpu/asm_compiler.cc:115] *** WARNING *** You are using ptxas 10.1.243, which is older than 11.1. ptxas before 11.1 is known to miscompile XLA code, leading to incorrect results or invalid-address errors.\n",
      "\n"
     ]
    },
    {
     "name": "stdout",
     "output_type": "stream",
     "text": [
      "371/371 [==============================] - 4s 8ms/step - loss: 0.5366 - accuracy: 0.7694 - val_loss: 0.5294 - val_accuracy: 0.7781\n",
      "Epoch 2/70\n",
      "371/371 [==============================] - 3s 8ms/step - loss: 0.5278 - accuracy: 0.7795 - val_loss: 0.5289 - val_accuracy: 0.7781\n",
      "Epoch 3/70\n",
      "371/371 [==============================] - 3s 8ms/step - loss: 0.4852 - accuracy: 0.7833 - val_loss: 0.4533 - val_accuracy: 0.8041\n",
      "Epoch 4/70\n",
      "371/371 [==============================] - 3s 8ms/step - loss: 0.4470 - accuracy: 0.8123 - val_loss: 0.4496 - val_accuracy: 0.8123\n",
      "Epoch 5/70\n",
      "371/371 [==============================] - 3s 7ms/step - loss: 0.4421 - accuracy: 0.8190 - val_loss: 0.4474 - val_accuracy: 0.8210\n",
      "Epoch 6/70\n",
      "371/371 [==============================] - 3s 7ms/step - loss: 0.4397 - accuracy: 0.8222 - val_loss: 0.4417 - val_accuracy: 0.8209\n",
      "Epoch 7/70\n",
      "371/371 [==============================] - 3s 7ms/step - loss: 0.4385 - accuracy: 0.8241 - val_loss: 0.4428 - val_accuracy: 0.8222\n",
      "Epoch 8/70\n",
      "371/371 [==============================] - 3s 7ms/step - loss: 0.4382 - accuracy: 0.8230 - val_loss: 0.4414 - val_accuracy: 0.8213\n",
      "Epoch 9/70\n",
      "371/371 [==============================] - 3s 8ms/step - loss: 0.4367 - accuracy: 0.8235 - val_loss: 0.4417 - val_accuracy: 0.8215\n",
      "Epoch 10/70\n",
      "371/371 [==============================] - 3s 7ms/step - loss: 0.4367 - accuracy: 0.8229 - val_loss: 0.4406 - val_accuracy: 0.8210\n",
      "Epoch 11/70\n",
      "371/371 [==============================] - 3s 7ms/step - loss: 0.4364 - accuracy: 0.8240 - val_loss: 0.4413 - val_accuracy: 0.8212\n",
      "Epoch 12/70\n",
      "371/371 [==============================] - 3s 7ms/step - loss: 0.4366 - accuracy: 0.8241 - val_loss: 0.4403 - val_accuracy: 0.8212\n",
      "Epoch 13/70\n",
      "371/371 [==============================] - 3s 7ms/step - loss: 0.4363 - accuracy: 0.8243 - val_loss: 0.4411 - val_accuracy: 0.8215\n",
      "Epoch 14/70\n",
      "371/371 [==============================] - 3s 8ms/step - loss: 0.4357 - accuracy: 0.8252 - val_loss: 0.4411 - val_accuracy: 0.8199\n",
      "Epoch 15/70\n",
      "371/371 [==============================] - 3s 8ms/step - loss: 0.4362 - accuracy: 0.8239 - val_loss: 0.4429 - val_accuracy: 0.8209\n",
      "Epoch 16/70\n",
      "371/371 [==============================] - 3s 7ms/step - loss: 0.4355 - accuracy: 0.8252 - val_loss: 0.4437 - val_accuracy: 0.8187\n",
      "Epoch 17/70\n",
      "371/371 [==============================] - 3s 7ms/step - loss: 0.4351 - accuracy: 0.8256 - val_loss: 0.4413 - val_accuracy: 0.8216\n",
      "Epoch 18/70\n",
      "371/371 [==============================] - 3s 7ms/step - loss: 0.4346 - accuracy: 0.8268 - val_loss: 0.4421 - val_accuracy: 0.8197\n",
      "Epoch 19/70\n",
      "371/371 [==============================] - 3s 7ms/step - loss: 0.4346 - accuracy: 0.8255 - val_loss: 0.4451 - val_accuracy: 0.8144\n",
      "Epoch 20/70\n",
      "371/371 [==============================] - 3s 7ms/step - loss: 0.4340 - accuracy: 0.8266 - val_loss: 0.4400 - val_accuracy: 0.8200\n",
      "Epoch 21/70\n",
      "371/371 [==============================] - 3s 7ms/step - loss: 0.4346 - accuracy: 0.8267 - val_loss: 0.4409 - val_accuracy: 0.8212\n",
      "Epoch 22/70\n",
      "371/371 [==============================] - 3s 7ms/step - loss: 0.4340 - accuracy: 0.8263 - val_loss: 0.4424 - val_accuracy: 0.8197\n",
      "Epoch 23/70\n",
      "371/371 [==============================] - 3s 7ms/step - loss: 0.4340 - accuracy: 0.8261 - val_loss: 0.4399 - val_accuracy: 0.8216\n",
      "Epoch 24/70\n",
      "371/371 [==============================] - 3s 7ms/step - loss: 0.4334 - accuracy: 0.8265 - val_loss: 0.4451 - val_accuracy: 0.8146\n",
      "Epoch 25/70\n",
      "371/371 [==============================] - 3s 7ms/step - loss: 0.4336 - accuracy: 0.8270 - val_loss: 0.4393 - val_accuracy: 0.8214\n",
      "Epoch 26/70\n",
      "371/371 [==============================] - 3s 7ms/step - loss: 0.4329 - accuracy: 0.8268 - val_loss: 0.4409 - val_accuracy: 0.8212\n",
      "Epoch 27/70\n",
      "371/371 [==============================] - 3s 7ms/step - loss: 0.4327 - accuracy: 0.8270 - val_loss: 0.4421 - val_accuracy: 0.8201\n",
      "Epoch 28/70\n",
      "371/371 [==============================] - 3s 7ms/step - loss: 0.4322 - accuracy: 0.8274 - val_loss: 0.4438 - val_accuracy: 0.8206\n",
      "Epoch 29/70\n",
      "371/371 [==============================] - 3s 7ms/step - loss: 0.4321 - accuracy: 0.8261 - val_loss: 0.4393 - val_accuracy: 0.8218\n",
      "Epoch 30/70\n",
      "371/371 [==============================] - 3s 7ms/step - loss: 0.4319 - accuracy: 0.8273 - val_loss: 0.4416 - val_accuracy: 0.8198\n",
      "Epoch 31/70\n",
      "371/371 [==============================] - 3s 7ms/step - loss: 0.4313 - accuracy: 0.8280 - val_loss: 0.4407 - val_accuracy: 0.8198\n",
      "Epoch 32/70\n",
      "371/371 [==============================] - 3s 8ms/step - loss: 0.4310 - accuracy: 0.8275 - val_loss: 0.4396 - val_accuracy: 0.8223\n",
      "Epoch 33/70\n",
      "371/371 [==============================] - 3s 8ms/step - loss: 0.4296 - accuracy: 0.8281 - val_loss: 0.4414 - val_accuracy: 0.8209\n",
      "Epoch 34/70\n",
      "371/371 [==============================] - 3s 7ms/step - loss: 0.4315 - accuracy: 0.8280 - val_loss: 0.4405 - val_accuracy: 0.8207\n",
      "Epoch 35/70\n",
      "371/371 [==============================] - 3s 7ms/step - loss: 0.4301 - accuracy: 0.8281 - val_loss: 0.4402 - val_accuracy: 0.8214\n",
      "Epoch 36/70\n",
      "371/371 [==============================] - 3s 7ms/step - loss: 0.4300 - accuracy: 0.8284 - val_loss: 0.4419 - val_accuracy: 0.8195\n",
      "Epoch 37/70\n",
      "371/371 [==============================] - 3s 7ms/step - loss: 0.4296 - accuracy: 0.8284 - val_loss: 0.4414 - val_accuracy: 0.8201\n",
      "Epoch 38/70\n",
      "371/371 [==============================] - 3s 8ms/step - loss: 0.4301 - accuracy: 0.8285 - val_loss: 0.4409 - val_accuracy: 0.8221\n",
      "Epoch 39/70\n",
      "371/371 [==============================] - 3s 8ms/step - loss: 0.4292 - accuracy: 0.8284 - val_loss: 0.4422 - val_accuracy: 0.8221\n",
      "Epoch 40/70\n",
      "371/371 [==============================] - 3s 7ms/step - loss: 0.4285 - accuracy: 0.8289 - val_loss: 0.4426 - val_accuracy: 0.8203\n",
      "Epoch 41/70\n",
      "371/371 [==============================] - 3s 7ms/step - loss: 0.4284 - accuracy: 0.8302 - val_loss: 0.4409 - val_accuracy: 0.8206\n",
      "Epoch 42/70\n",
      "371/371 [==============================] - 3s 7ms/step - loss: 0.4294 - accuracy: 0.8286 - val_loss: 0.4412 - val_accuracy: 0.8213\n",
      "Epoch 43/70\n",
      "371/371 [==============================] - 3s 7ms/step - loss: 0.4275 - accuracy: 0.8288 - val_loss: 0.4427 - val_accuracy: 0.8195\n",
      "Epoch 44/70\n",
      "371/371 [==============================] - 3s 8ms/step - loss: 0.4280 - accuracy: 0.8279 - val_loss: 0.4420 - val_accuracy: 0.8203\n",
      "Epoch 45/70\n",
      "371/371 [==============================] - 3s 8ms/step - loss: 0.4278 - accuracy: 0.8298 - val_loss: 0.4410 - val_accuracy: 0.8201\n",
      "Epoch 46/70\n",
      "371/371 [==============================] - 3s 8ms/step - loss: 0.4277 - accuracy: 0.8295 - val_loss: 0.4423 - val_accuracy: 0.8190\n",
      "Epoch 47/70\n",
      "371/371 [==============================] - 3s 8ms/step - loss: 0.4266 - accuracy: 0.8305 - val_loss: 0.4455 - val_accuracy: 0.8189\n",
      "Epoch 48/70\n",
      "371/371 [==============================] - 3s 8ms/step - loss: 0.4269 - accuracy: 0.8306 - val_loss: 0.4426 - val_accuracy: 0.8187\n",
      "Epoch 49/70\n",
      "371/371 [==============================] - 3s 8ms/step - loss: 0.4264 - accuracy: 0.8310 - val_loss: 0.4443 - val_accuracy: 0.8205\n",
      "Epoch 50/70\n",
      "371/371 [==============================] - 3s 8ms/step - loss: 0.4265 - accuracy: 0.8306 - val_loss: 0.4423 - val_accuracy: 0.8179\n",
      "Epoch 51/70\n",
      "371/371 [==============================] - 3s 8ms/step - loss: 0.4268 - accuracy: 0.8310 - val_loss: 0.4433 - val_accuracy: 0.8195\n",
      "Epoch 52/70\n",
      "371/371 [==============================] - 3s 8ms/step - loss: 0.4266 - accuracy: 0.8305 - val_loss: 0.4414 - val_accuracy: 0.8183\n",
      "Epoch 53/70\n",
      "371/371 [==============================] - 3s 8ms/step - loss: 0.4255 - accuracy: 0.8306 - val_loss: 0.4423 - val_accuracy: 0.8171\n",
      "Epoch 54/70\n",
      "371/371 [==============================] - 3s 8ms/step - loss: 0.4246 - accuracy: 0.8307 - val_loss: 0.4446 - val_accuracy: 0.8158\n",
      "Epoch 55/70\n",
      "371/371 [==============================] - 3s 7ms/step - loss: 0.4251 - accuracy: 0.8295 - val_loss: 0.4429 - val_accuracy: 0.8187\n",
      "Epoch 56/70\n",
      "371/371 [==============================] - 3s 8ms/step - loss: 0.4244 - accuracy: 0.8311 - val_loss: 0.4459 - val_accuracy: 0.8174\n",
      "Epoch 57/70\n",
      "371/371 [==============================] - 3s 8ms/step - loss: 0.4243 - accuracy: 0.8312 - val_loss: 0.4460 - val_accuracy: 0.8190\n",
      "Epoch 58/70\n",
      "371/371 [==============================] - 3s 8ms/step - loss: 0.4238 - accuracy: 0.8322 - val_loss: 0.4432 - val_accuracy: 0.8206\n",
      "Epoch 59/70\n",
      "371/371 [==============================] - 3s 8ms/step - loss: 0.4247 - accuracy: 0.8295 - val_loss: 0.4428 - val_accuracy: 0.8179\n",
      "Epoch 60/70\n",
      "371/371 [==============================] - 3s 8ms/step - loss: 0.4237 - accuracy: 0.8307 - val_loss: 0.4453 - val_accuracy: 0.8174\n",
      "Epoch 61/70\n",
      "371/371 [==============================] - 3s 8ms/step - loss: 0.4233 - accuracy: 0.8310 - val_loss: 0.4455 - val_accuracy: 0.8180\n",
      "Epoch 62/70\n",
      "371/371 [==============================] - 3s 8ms/step - loss: 0.4232 - accuracy: 0.8322 - val_loss: 0.4431 - val_accuracy: 0.8186\n",
      "Epoch 63/70\n",
      "371/371 [==============================] - 3s 8ms/step - loss: 0.4229 - accuracy: 0.8323 - val_loss: 0.4458 - val_accuracy: 0.8178\n",
      "Epoch 64/70\n",
      "371/371 [==============================] - 3s 8ms/step - loss: 0.4221 - accuracy: 0.8330 - val_loss: 0.4442 - val_accuracy: 0.8185\n",
      "Epoch 65/70\n",
      "371/371 [==============================] - 3s 8ms/step - loss: 0.4222 - accuracy: 0.8325 - val_loss: 0.4444 - val_accuracy: 0.8178\n",
      "Epoch 66/70\n",
      "371/371 [==============================] - 3s 8ms/step - loss: 0.4220 - accuracy: 0.8324 - val_loss: 0.4438 - val_accuracy: 0.8179\n",
      "Epoch 67/70\n",
      "371/371 [==============================] - 3s 8ms/step - loss: 0.4212 - accuracy: 0.8334 - val_loss: 0.4449 - val_accuracy: 0.8174\n",
      "Epoch 68/70\n",
      "371/371 [==============================] - 3s 8ms/step - loss: 0.4215 - accuracy: 0.8332 - val_loss: 0.4442 - val_accuracy: 0.8169\n",
      "Epoch 69/70\n",
      "371/371 [==============================] - 3s 8ms/step - loss: 0.4205 - accuracy: 0.8339 - val_loss: 0.4450 - val_accuracy: 0.8188\n",
      "Epoch 70/70\n",
      "371/371 [==============================] - 3s 8ms/step - loss: 0.4203 - accuracy: 0.8329 - val_loss: 0.4472 - val_accuracy: 0.8183\n"
     ]
    },
    {
     "data": {
      "image/png": "[encoded data removed]",
      "text/plain": [
       "<Figure size 640x480 with 1 Axes>"
      ]
     },
     "metadata": {},
     "output_type": "display_data"
    },
    {
     "name": "stdout",
     "output_type": "stream",
     "text": [
      "279/279 [==============================] - 1s 3ms/step - loss: 0.4502 - accuracy: 0.8159\n",
      "Loss:  0.45019081234931946  Accuracy:  0.8158929944038391\n"
     ]
    }
   ],
   "source": [
    "class ANNModel:\n",
    "\n",
    "    optimizer = \"adam\";\n",
    "\n",
    "    def input_layer(self):\n",
    "        return keras.layers.Dense(32, input_dim = 69, activation = \"sigmoid\"); # 11 is total features dimension\n",
    "\n",
    "    def hidden_layer(self):\n",
    "        return [\n",
    "            keras.layers.Dense(256, activation = \"sigmoid\"),\n",
    "            keras.layers.Dense(128, activation = \"hard_sigmoid\"),\n",
    "        ];\n",
    "\n",
    "    def shallow_hidden_layer(self):\n",
    "        return [\n",
    "            keras.layers.Dense(32, activation = \"hard_sigmoid\"),\n",
    "            keras.layers.Dense(16, activation = \"sigmoid\"),\n",
    "            keras.layers.Dense(8, activation = \"sigmoid\"),\n",
    "        ];\n",
    "\n",
    "    def output_layer(self):\n",
    "        return keras.layers.Dense(1, activation = \"sigmoid\"); # Since output is only 1 label.\n",
    "\n",
    "    def fit(self):\n",
    "        model = Sequential();\n",
    "        model.add(self.input_layer());\n",
    "\n",
    "        for i in [self.hidden_layer(), self.shallow_hidden_layer(), self.hidden_layer(), self.hidden_layer()]:\n",
    "            for j in i:\n",
    "                model.add(j);\n",
    "\n",
    "        model.add(self.output_layer());\n",
    "\n",
    "        plot_model(model, to_file=\"model_architecture.png\", show_shapes=True)\n",
    "\n",
    "        model.compile(loss=\"binary_crossentropy\", optimizer=\"adam\", metrics=[\"accuracy\"]);\n",
    "\n",
    "        model_plot = model.fit(feature_train_scaled, label_train, epochs = 70, validation_data=(feature_validation_scaled, label_validation));\n",
    "\n",
    "        plt.plot(model_plot.history[\"loss\"], label = \"Model Training Loss\");\n",
    "        plt.plot(model_plot.history[\"val_loss\"], label = \"Model Validation Loss\");\n",
    "        plt.title(\"Training and Validation Loss\");\n",
    "        plt.xlabel(\"Epochs\");\n",
    "        plt.ylabel(\"Loss\");\n",
    "        plt.legend();\n",
    "        plt.show();\n",
    "\n",
    "        return model;\n",
    "\n",
    "dojo = ANNModel();\n",
    "model = dojo.fit();\n",
    "\n",
    "loss, accuracy = model.evaluate(feature_test_scaled, label_test);\n",
    "print(\"Loss: \", loss, \" Accuracy: \", accuracy);"
   ]
  }
 ],
 "metadata": {
  "kernelspec": {
   "display_name": "Python 3 (ipykernel)",
   "language": "python",
   "name": "python3"
  },
  "language_info": {
   "codemirror_mode": {
    "name": "ipython",
    "version": 3
   },
   "file_extension": ".py",
   "mimetype": "text/x-python",
   "name": "python",
   "nbconvert_exporter": "python",
   "pygments_lexer": "ipython3",
   "version": "3.10.13"
  }
 },
 "nbformat": 4,
 "nbformat_minor": 2
}
